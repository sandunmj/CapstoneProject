{
  "nbformat": 4,
  "nbformat_minor": 0,
  "metadata": {
    "colab": {
      "name": "RoomOccupancyPrediction.ipynb",
      "provenance": [],
      "collapsed_sections": [],
      "authorship_tag": "ABX9TyNvWg79u74JHfkrE2pQezdy",
      "include_colab_link": true
    },
    "kernelspec": {
      "name": "python3",
      "display_name": "Python 3"
    },
    "language_info": {
      "name": "python"
    }
  },
  "cells": [
    {
      "cell_type": "markdown",
      "metadata": {
        "id": "view-in-github",
        "colab_type": "text"
      },
      "source": [
        "<a href=\"https://colab.research.google.com/github/sandunmj/CapstoneProject/blob/main/RoomOccupancyPrediction.ipynb\" target=\"_parent\"><img src=\"https://colab.research.google.com/assets/colab-badge.svg\" alt=\"Open In Colab\"/></a>"
      ]
    },
    {
      "cell_type": "markdown",
      "source": [
        "## Loading Dataset"
      ],
      "metadata": {
        "id": "IbTPk5AUigJl"
      }
    },
    {
      "cell_type": "code",
      "execution_count": 88,
      "metadata": {
        "colab": {
          "base_uri": "https://localhost:8080/"
        },
        "id": "TV0Ev3RHIJb-",
        "outputId": "3b1fa211-dd68-46e5-d50b-f81b6b2eb94d"
      },
      "outputs": [
        {
          "output_type": "stream",
          "name": "stdout",
          "text": [
            "--2022-05-13 18:48:52--  https://archive.ics.uci.edu/ml/machine-learning-databases/00357/occupancy_data.zip\n",
            "Resolving archive.ics.uci.edu (archive.ics.uci.edu)... 128.195.10.252\n",
            "Connecting to archive.ics.uci.edu (archive.ics.uci.edu)|128.195.10.252|:443... connected.\n",
            "HTTP request sent, awaiting response... 200 OK\n",
            "Length: 335713 (328K) [application/x-httpd-php]\n",
            "Saving to: ‘occupancy_data.zip’\n",
            "\n",
            "occupancy_data.zip  100%[===================>] 327.84K  1.54MB/s    in 0.2s    \n",
            "\n",
            "2022-05-13 18:48:52 (1.54 MB/s) - ‘occupancy_data.zip’ saved [335713/335713]\n",
            "\n",
            "Archive:  occupancy_data.zip\n",
            "  inflating: datatest.txt            \n",
            "  inflating: datatest2.txt           \n",
            "  inflating: datatraining.txt        \n"
          ]
        }
      ],
      "source": [
        "!wget https://archive.ics.uci.edu/ml/machine-learning-databases/00357/occupancy_data.zip\n",
        "!unzip occupancy_data.zip"
      ]
    },
    {
      "cell_type": "markdown",
      "source": [
        "## Data Observation"
      ],
      "metadata": {
        "id": "vg-HbriAitmb"
      }
    },
    {
      "cell_type": "code",
      "source": [
        "import pandas as pd\n",
        "import seaborn as sns\n",
        "from matplotlib import pyplot as plt"
      ],
      "metadata": {
        "id": "8jTPUACbJGpJ"
      },
      "execution_count": 89,
      "outputs": []
    },
    {
      "cell_type": "code",
      "source": [
        "data = pd.read_csv('datatraining.txt')\n",
        "print(\"Number of data rows: \", data.shape[0])\n",
        "print(\"Number of columns: \", data.shape[1])"
      ],
      "metadata": {
        "colab": {
          "base_uri": "https://localhost:8080/"
        },
        "id": "9-AZgmX-JVq1",
        "outputId": "c1168ab6-93dd-44fa-9692-d2c8b215670e"
      },
      "execution_count": 90,
      "outputs": [
        {
          "output_type": "stream",
          "name": "stdout",
          "text": [
            "Number of data rows:  8143\n",
            "Number of columns:  7\n"
          ]
        }
      ]
    },
    {
      "cell_type": "code",
      "source": [
        "data.sample(10)"
      ],
      "metadata": {
        "colab": {
          "base_uri": "https://localhost:8080/",
          "height": 363
        },
        "id": "u9lEs-LnJsgR",
        "outputId": "dd9fbe5a-7c0b-4a19-ab72-71a48e24b7e0"
      },
      "execution_count": 91,
      "outputs": [
        {
          "output_type": "execute_result",
          "data": {
            "text/plain": [
              "                     date  Temperature  Humidity  Light         CO2  \\\n",
              "3807  2015-02-07 09:16:59    20.000000   19.2675  133.0  458.250000   \n",
              "6065  2015-02-08 22:54:59    19.500000   27.7900    0.0  444.000000   \n",
              "5274  2015-02-08 09:43:59    19.434000   30.5600   28.0  429.000000   \n",
              "4253  2015-02-07 16:43:00    20.790000   20.1500   14.0  440.500000   \n",
              "5112  2015-02-08 07:01:59    19.200000   31.3900    0.0  432.333333   \n",
              "5447  2015-02-08 12:36:59    19.700000   30.1500   90.5  422.000000   \n",
              "559   2015-02-05 03:08:59    20.926667   24.8900    0.0  444.000000   \n",
              "5845  2015-02-08 19:14:59    19.290000   27.7000    0.0  436.500000   \n",
              "8016  2015-02-10 07:25:59    20.290000   33.0000    0.0  450.000000   \n",
              "5066  2015-02-08 06:16:00    19.200000   31.6000    0.0  433.000000   \n",
              "\n",
              "      HumidityRatio  Occupancy  \n",
              "3807       0.002778          0  \n",
              "6065       0.003892          0  \n",
              "5274       0.004265          0  \n",
              "4253       0.003052          0  \n",
              "5112       0.004318          0  \n",
              "5447       0.004278          0  \n",
              "559        0.003807          0  \n",
              "5845       0.003829          0  \n",
              "8016       0.004861          0  \n",
              "5066       0.004347          0  "
            ],
            "text/html": [
              "\n",
              "  <div id=\"df-bf1075a5-a4d2-42c5-aa4b-0db9cc8867f5\">\n",
              "    <div class=\"colab-df-container\">\n",
              "      <div>\n",
              "<style scoped>\n",
              "    .dataframe tbody tr th:only-of-type {\n",
              "        vertical-align: middle;\n",
              "    }\n",
              "\n",
              "    .dataframe tbody tr th {\n",
              "        vertical-align: top;\n",
              "    }\n",
              "\n",
              "    .dataframe thead th {\n",
              "        text-align: right;\n",
              "    }\n",
              "</style>\n",
              "<table border=\"1\" class=\"dataframe\">\n",
              "  <thead>\n",
              "    <tr style=\"text-align: right;\">\n",
              "      <th></th>\n",
              "      <th>date</th>\n",
              "      <th>Temperature</th>\n",
              "      <th>Humidity</th>\n",
              "      <th>Light</th>\n",
              "      <th>CO2</th>\n",
              "      <th>HumidityRatio</th>\n",
              "      <th>Occupancy</th>\n",
              "    </tr>\n",
              "  </thead>\n",
              "  <tbody>\n",
              "    <tr>\n",
              "      <th>3807</th>\n",
              "      <td>2015-02-07 09:16:59</td>\n",
              "      <td>20.000000</td>\n",
              "      <td>19.2675</td>\n",
              "      <td>133.0</td>\n",
              "      <td>458.250000</td>\n",
              "      <td>0.002778</td>\n",
              "      <td>0</td>\n",
              "    </tr>\n",
              "    <tr>\n",
              "      <th>6065</th>\n",
              "      <td>2015-02-08 22:54:59</td>\n",
              "      <td>19.500000</td>\n",
              "      <td>27.7900</td>\n",
              "      <td>0.0</td>\n",
              "      <td>444.000000</td>\n",
              "      <td>0.003892</td>\n",
              "      <td>0</td>\n",
              "    </tr>\n",
              "    <tr>\n",
              "      <th>5274</th>\n",
              "      <td>2015-02-08 09:43:59</td>\n",
              "      <td>19.434000</td>\n",
              "      <td>30.5600</td>\n",
              "      <td>28.0</td>\n",
              "      <td>429.000000</td>\n",
              "      <td>0.004265</td>\n",
              "      <td>0</td>\n",
              "    </tr>\n",
              "    <tr>\n",
              "      <th>4253</th>\n",
              "      <td>2015-02-07 16:43:00</td>\n",
              "      <td>20.790000</td>\n",
              "      <td>20.1500</td>\n",
              "      <td>14.0</td>\n",
              "      <td>440.500000</td>\n",
              "      <td>0.003052</td>\n",
              "      <td>0</td>\n",
              "    </tr>\n",
              "    <tr>\n",
              "      <th>5112</th>\n",
              "      <td>2015-02-08 07:01:59</td>\n",
              "      <td>19.200000</td>\n",
              "      <td>31.3900</td>\n",
              "      <td>0.0</td>\n",
              "      <td>432.333333</td>\n",
              "      <td>0.004318</td>\n",
              "      <td>0</td>\n",
              "    </tr>\n",
              "    <tr>\n",
              "      <th>5447</th>\n",
              "      <td>2015-02-08 12:36:59</td>\n",
              "      <td>19.700000</td>\n",
              "      <td>30.1500</td>\n",
              "      <td>90.5</td>\n",
              "      <td>422.000000</td>\n",
              "      <td>0.004278</td>\n",
              "      <td>0</td>\n",
              "    </tr>\n",
              "    <tr>\n",
              "      <th>559</th>\n",
              "      <td>2015-02-05 03:08:59</td>\n",
              "      <td>20.926667</td>\n",
              "      <td>24.8900</td>\n",
              "      <td>0.0</td>\n",
              "      <td>444.000000</td>\n",
              "      <td>0.003807</td>\n",
              "      <td>0</td>\n",
              "    </tr>\n",
              "    <tr>\n",
              "      <th>5845</th>\n",
              "      <td>2015-02-08 19:14:59</td>\n",
              "      <td>19.290000</td>\n",
              "      <td>27.7000</td>\n",
              "      <td>0.0</td>\n",
              "      <td>436.500000</td>\n",
              "      <td>0.003829</td>\n",
              "      <td>0</td>\n",
              "    </tr>\n",
              "    <tr>\n",
              "      <th>8016</th>\n",
              "      <td>2015-02-10 07:25:59</td>\n",
              "      <td>20.290000</td>\n",
              "      <td>33.0000</td>\n",
              "      <td>0.0</td>\n",
              "      <td>450.000000</td>\n",
              "      <td>0.004861</td>\n",
              "      <td>0</td>\n",
              "    </tr>\n",
              "    <tr>\n",
              "      <th>5066</th>\n",
              "      <td>2015-02-08 06:16:00</td>\n",
              "      <td>19.200000</td>\n",
              "      <td>31.6000</td>\n",
              "      <td>0.0</td>\n",
              "      <td>433.000000</td>\n",
              "      <td>0.004347</td>\n",
              "      <td>0</td>\n",
              "    </tr>\n",
              "  </tbody>\n",
              "</table>\n",
              "</div>\n",
              "      <button class=\"colab-df-convert\" onclick=\"convertToInteractive('df-bf1075a5-a4d2-42c5-aa4b-0db9cc8867f5')\"\n",
              "              title=\"Convert this dataframe to an interactive table.\"\n",
              "              style=\"display:none;\">\n",
              "        \n",
              "  <svg xmlns=\"http://www.w3.org/2000/svg\" height=\"24px\"viewBox=\"0 0 24 24\"\n",
              "       width=\"24px\">\n",
              "    <path d=\"M0 0h24v24H0V0z\" fill=\"none\"/>\n",
              "    <path d=\"M18.56 5.44l.94 2.06.94-2.06 2.06-.94-2.06-.94-.94-2.06-.94 2.06-2.06.94zm-11 1L8.5 8.5l.94-2.06 2.06-.94-2.06-.94L8.5 2.5l-.94 2.06-2.06.94zm10 10l.94 2.06.94-2.06 2.06-.94-2.06-.94-.94-2.06-.94 2.06-2.06.94z\"/><path d=\"M17.41 7.96l-1.37-1.37c-.4-.4-.92-.59-1.43-.59-.52 0-1.04.2-1.43.59L10.3 9.45l-7.72 7.72c-.78.78-.78 2.05 0 2.83L4 21.41c.39.39.9.59 1.41.59.51 0 1.02-.2 1.41-.59l7.78-7.78 2.81-2.81c.8-.78.8-2.07 0-2.86zM5.41 20L4 18.59l7.72-7.72 1.47 1.35L5.41 20z\"/>\n",
              "  </svg>\n",
              "      </button>\n",
              "      \n",
              "  <style>\n",
              "    .colab-df-container {\n",
              "      display:flex;\n",
              "      flex-wrap:wrap;\n",
              "      gap: 12px;\n",
              "    }\n",
              "\n",
              "    .colab-df-convert {\n",
              "      background-color: #E8F0FE;\n",
              "      border: none;\n",
              "      border-radius: 50%;\n",
              "      cursor: pointer;\n",
              "      display: none;\n",
              "      fill: #1967D2;\n",
              "      height: 32px;\n",
              "      padding: 0 0 0 0;\n",
              "      width: 32px;\n",
              "    }\n",
              "\n",
              "    .colab-df-convert:hover {\n",
              "      background-color: #E2EBFA;\n",
              "      box-shadow: 0px 1px 2px rgba(60, 64, 67, 0.3), 0px 1px 3px 1px rgba(60, 64, 67, 0.15);\n",
              "      fill: #174EA6;\n",
              "    }\n",
              "\n",
              "    [theme=dark] .colab-df-convert {\n",
              "      background-color: #3B4455;\n",
              "      fill: #D2E3FC;\n",
              "    }\n",
              "\n",
              "    [theme=dark] .colab-df-convert:hover {\n",
              "      background-color: #434B5C;\n",
              "      box-shadow: 0px 1px 3px 1px rgba(0, 0, 0, 0.15);\n",
              "      filter: drop-shadow(0px 1px 2px rgba(0, 0, 0, 0.3));\n",
              "      fill: #FFFFFF;\n",
              "    }\n",
              "  </style>\n",
              "\n",
              "      <script>\n",
              "        const buttonEl =\n",
              "          document.querySelector('#df-bf1075a5-a4d2-42c5-aa4b-0db9cc8867f5 button.colab-df-convert');\n",
              "        buttonEl.style.display =\n",
              "          google.colab.kernel.accessAllowed ? 'block' : 'none';\n",
              "\n",
              "        async function convertToInteractive(key) {\n",
              "          const element = document.querySelector('#df-bf1075a5-a4d2-42c5-aa4b-0db9cc8867f5');\n",
              "          const dataTable =\n",
              "            await google.colab.kernel.invokeFunction('convertToInteractive',\n",
              "                                                     [key], {});\n",
              "          if (!dataTable) return;\n",
              "\n",
              "          const docLinkHtml = 'Like what you see? Visit the ' +\n",
              "            '<a target=\"_blank\" href=https://colab.research.google.com/notebooks/data_table.ipynb>data table notebook</a>'\n",
              "            + ' to learn more about interactive tables.';\n",
              "          element.innerHTML = '';\n",
              "          dataTable['output_type'] = 'display_data';\n",
              "          await google.colab.output.renderOutput(dataTable, element);\n",
              "          const docLink = document.createElement('div');\n",
              "          docLink.innerHTML = docLinkHtml;\n",
              "          element.appendChild(docLink);\n",
              "        }\n",
              "      </script>\n",
              "    </div>\n",
              "  </div>\n",
              "  "
            ]
          },
          "metadata": {},
          "execution_count": 91
        }
      ]
    },
    {
      "cell_type": "code",
      "source": [
        "data.info()"
      ],
      "metadata": {
        "colab": {
          "base_uri": "https://localhost:8080/"
        },
        "id": "WrnYIbQgKUum",
        "outputId": "c69e8a36-79f7-4ec3-cc9d-65e504e640b1"
      },
      "execution_count": 92,
      "outputs": [
        {
          "output_type": "stream",
          "name": "stdout",
          "text": [
            "<class 'pandas.core.frame.DataFrame'>\n",
            "Int64Index: 8143 entries, 1 to 8143\n",
            "Data columns (total 7 columns):\n",
            " #   Column         Non-Null Count  Dtype  \n",
            "---  ------         --------------  -----  \n",
            " 0   date           8143 non-null   object \n",
            " 1   Temperature    8143 non-null   float64\n",
            " 2   Humidity       8143 non-null   float64\n",
            " 3   Light          8143 non-null   float64\n",
            " 4   CO2            8143 non-null   float64\n",
            " 5   HumidityRatio  8143 non-null   float64\n",
            " 6   Occupancy      8143 non-null   int64  \n",
            "dtypes: float64(5), int64(1), object(1)\n",
            "memory usage: 508.9+ KB\n"
          ]
        }
      ]
    },
    {
      "cell_type": "markdown",
      "source": [
        "## Data cleaning"
      ],
      "metadata": {
        "id": "2Wn_gcvWjfBx"
      }
    },
    {
      "cell_type": "markdown",
      "source": [
        "### Treating missing values"
      ],
      "metadata": {
        "id": "t-pI6z_skS4U"
      }
    },
    {
      "cell_type": "code",
      "source": [
        "data.columns[data.isnull().any()]"
      ],
      "metadata": {
        "colab": {
          "base_uri": "https://localhost:8080/"
        },
        "id": "5L5g_a-BMfCi",
        "outputId": "e78d54c9-56e5-4884-b3f9-163e4c945564"
      },
      "execution_count": 93,
      "outputs": [
        {
          "output_type": "execute_result",
          "data": {
            "text/plain": [
              "Index([], dtype='object')"
            ]
          },
          "metadata": {},
          "execution_count": 93
        }
      ]
    },
    {
      "cell_type": "markdown",
      "source": [
        "No null values were found in the dataset. Therefore, it is not required to handle null values."
      ],
      "metadata": {
        "id": "DOO6wY98jlQX"
      }
    },
    {
      "cell_type": "markdown",
      "source": [
        "### Treating outliers"
      ],
      "metadata": {
        "id": "bzd0dZNrkgPb"
      }
    },
    {
      "cell_type": "code",
      "source": [
        "for column in ['Temperature', 'Humidity', 'Light', 'HumidityRatio']:\n",
        "  plt.figure()\n",
        "  data[column].plot(kind='box')\n",
        "  plt.show()"
      ],
      "metadata": {
        "colab": {
          "base_uri": "https://localhost:8080/",
          "height": 1000
        },
        "id": "sY-_yU0POlkT",
        "outputId": "39fd0117-4e30-448f-8790-bab38ba666a5"
      },
      "execution_count": 94,
      "outputs": [
        {
          "output_type": "display_data",
          "data": {
            "text/plain": [
              "<Figure size 432x288 with 1 Axes>"
            ],
            "image/png": "[encoded data removed]"
          },
          "metadata": {
            "needs_background": "light"
          }
        },
        {
          "output_type": "display_data",
          "data": {
            "text/plain": [
              "<Figure size 432x288 with 1 Axes>"
            ],
            "image/png": "[encoded data removed]"
          },
          "metadata": {
            "needs_background": "light"
          }
        },
        {
          "output_type": "display_data",
          "data": {
            "text/plain": [
              "<Figure size 432x288 with 1 Axes>"
            ],
            "image/png": "[encoded data removed]"
          },
          "metadata": {
            "needs_background": "light"
          }
        },
        {
          "output_type": "display_data",
          "data": {
            "text/plain": [
              "<Figure size 432x288 with 1 Axes>"
            ],
            "image/png": "[encoded data removed]"
          },
          "metadata": {
            "needs_background": "light"
          }
        }
      ]
    },
    {
      "cell_type": "markdown",
      "source": [
        "Outliers were found in 'Light' and 'HumidityRatio' columns. Those outliers containing data rows are eliminated as follows."
      ],
      "metadata": {
        "id": "aNki8-fEkoSQ"
      }
    },
    {
      "cell_type": "code",
      "source": [
        "for column in ['Light', 'HumidityRatio']:\n",
        "  Q1 = data[column].quantile(0.25)\n",
        "  Q3 = data[column].quantile(0.75)\n",
        "  IQR = Q3 - Q1\n",
        "\n",
        "  data=data[(data[column]>Q1-1.5*IQR) & (data[column]<Q3+1.5*IQR)]\n",
        "  plt.figure()\n",
        "  data[column].plot(kind='box')\n",
        "  plt.show()"
      ],
      "metadata": {
        "colab": {
          "base_uri": "https://localhost:8080/",
          "height": 513
        },
        "id": "d_HtZvZPPOEh",
        "outputId": "be24f1c9-4ae6-4974-ef86-42bcec300a7a"
      },
      "execution_count": 95,
      "outputs": [
        {
          "output_type": "display_data",
          "data": {
            "text/plain": [
              "<Figure size 432x288 with 1 Axes>"
            ],
            "image/png": "[encoded data removed]"
          },
          "metadata": {
            "needs_background": "light"
          }
        },
        {
          "output_type": "display_data",
          "data": {
            "text/plain": [
              "<Figure size 432x288 with 1 Axes>"
            ],
            "image/png": "[encoded data removed]"
          },
          "metadata": {
            "needs_background": "light"
          }
        }
      ]
    },
    {
      "cell_type": "markdown",
      "source": [
        "## Balancing dataset"
      ],
      "metadata": {
        "id": "8vgvqLSOlFET"
      }
    },
    {
      "cell_type": "markdown",
      "source": [
        "This is a classification problem and the target column ('Occupancy') is the only categorical variable present. The value counts of 'Occupancy' column is observed."
      ],
      "metadata": {
        "id": "O96_85nQlICv"
      }
    },
    {
      "cell_type": "code",
      "source": [
        "data['Occupancy'].value_counts()"
      ],
      "metadata": {
        "colab": {
          "base_uri": "https://localhost:8080/"
        },
        "id": "4aoN0GbOKyTw",
        "outputId": "aeef4c2b-3443-4e30-e595-769d4162eafc"
      },
      "execution_count": 96,
      "outputs": [
        {
          "output_type": "execute_result",
          "data": {
            "text/plain": [
              "0    6410\n",
              "1    1597\n",
              "Name: Occupancy, dtype: int64"
            ]
          },
          "metadata": {},
          "execution_count": 96
        }
      ]
    },
    {
      "cell_type": "markdown",
      "source": [
        "Since the value 0 row count is higher, data balancing technique was applied. This was done by downsampling the Occupancy = 0 rows."
      ],
      "metadata": {
        "id": "2oTLN7MjldI0"
      }
    },
    {
      "cell_type": "code",
      "source": [
        "data = data.drop(data[data['Occupancy'] == 0].sample(frac=.6).index)\n",
        "data['Occupancy'].value_counts()"
      ],
      "metadata": {
        "id": "Vs2cyL3qThwR",
        "colab": {
          "base_uri": "https://localhost:8080/"
        },
        "outputId": "b9d14e1a-bde1-45a4-c2ff-35375c6d9cac"
      },
      "execution_count": 97,
      "outputs": [
        {
          "output_type": "execute_result",
          "data": {
            "text/plain": [
              "0    2564\n",
              "1    1597\n",
              "Name: Occupancy, dtype: int64"
            ]
          },
          "metadata": {},
          "execution_count": 97
        }
      ]
    },
    {
      "cell_type": "markdown",
      "source": [
        "Now the training dataset is balanced."
      ],
      "metadata": {
        "id": "aYfKHwn2ohS2"
      }
    },
    {
      "cell_type": "markdown",
      "source": [
        "## Feature selection"
      ],
      "metadata": {
        "id": "nu7IH5EZom4P"
      }
    },
    {
      "cell_type": "code",
      "source": [
        "data.describe()"
      ],
      "metadata": {
        "colab": {
          "base_uri": "https://localhost:8080/",
          "height": 300
        },
        "id": "TWWAHMIeTKQ-",
        "outputId": "879a9141-79c2-4df3-d2f4-01a5bd304a02"
      },
      "execution_count": 98,
      "outputs": [
        {
          "output_type": "execute_result",
          "data": {
            "text/plain": [
              "       Temperature     Humidity        Light          CO2  HumidityRatio  \\\n",
              "count  4161.000000  4161.000000  4161.000000  4161.000000    4161.000000   \n",
              "mean     20.828097    25.664226   193.172711   673.210180       0.003903   \n",
              "std       1.035118     5.394723   221.999744   317.311131       0.000837   \n",
              "min      19.000000    16.790000     0.000000   412.750000       0.002682   \n",
              "25%      20.000000    20.545000     0.000000   441.500000       0.003191   \n",
              "50%      20.790000    26.200000     7.000000   471.000000       0.003811   \n",
              "75%      21.700000    30.200000   444.000000   854.000000       0.004445   \n",
              "max      23.180000    38.145000   638.000000  1879.250000       0.006257   \n",
              "\n",
              "         Occupancy  \n",
              "count  4161.000000  \n",
              "mean      0.383802  \n",
              "std       0.486369  \n",
              "min       0.000000  \n",
              "25%       0.000000  \n",
              "50%       0.000000  \n",
              "75%       1.000000  \n",
              "max       1.000000  "
            ],
            "text/html": [
              "\n",
              "  <div id=\"df-68a6f904-c9e9-4ad5-9350-8aa01e4c75a7\">\n",
              "    <div class=\"colab-df-container\">\n",
              "      <div>\n",
              "<style scoped>\n",
              "    .dataframe tbody tr th:only-of-type {\n",
              "        vertical-align: middle;\n",
              "    }\n",
              "\n",
              "    .dataframe tbody tr th {\n",
              "        vertical-align: top;\n",
              "    }\n",
              "\n",
              "    .dataframe thead th {\n",
              "        text-align: right;\n",
              "    }\n",
              "</style>\n",
              "<table border=\"1\" class=\"dataframe\">\n",
              "  <thead>\n",
              "    <tr style=\"text-align: right;\">\n",
              "      <th></th>\n",
              "      <th>Temperature</th>\n",
              "      <th>Humidity</th>\n",
              "      <th>Light</th>\n",
              "      <th>CO2</th>\n",
              "      <th>HumidityRatio</th>\n",
              "      <th>Occupancy</th>\n",
              "    </tr>\n",
              "  </thead>\n",
              "  <tbody>\n",
              "    <tr>\n",
              "      <th>count</th>\n",
              "      <td>4161.000000</td>\n",
              "      <td>4161.000000</td>\n",
              "      <td>4161.000000</td>\n",
              "      <td>4161.000000</td>\n",
              "      <td>4161.000000</td>\n",
              "      <td>4161.000000</td>\n",
              "    </tr>\n",
              "    <tr>\n",
              "      <th>mean</th>\n",
              "      <td>20.828097</td>\n",
              "      <td>25.664226</td>\n",
              "      <td>193.172711</td>\n",
              "      <td>673.210180</td>\n",
              "      <td>0.003903</td>\n",
              "      <td>0.383802</td>\n",
              "    </tr>\n",
              "    <tr>\n",
              "      <th>std</th>\n",
              "      <td>1.035118</td>\n",
              "      <td>5.394723</td>\n",
              "      <td>221.999744</td>\n",
              "      <td>317.311131</td>\n",
              "      <td>0.000837</td>\n",
              "      <td>0.486369</td>\n",
              "    </tr>\n",
              "    <tr>\n",
              "      <th>min</th>\n",
              "      <td>19.000000</td>\n",
              "      <td>16.790000</td>\n",
              "      <td>0.000000</td>\n",
              "      <td>412.750000</td>\n",
              "      <td>0.002682</td>\n",
              "      <td>0.000000</td>\n",
              "    </tr>\n",
              "    <tr>\n",
              "      <th>25%</th>\n",
              "      <td>20.000000</td>\n",
              "      <td>20.545000</td>\n",
              "      <td>0.000000</td>\n",
              "      <td>441.500000</td>\n",
              "      <td>0.003191</td>\n",
              "      <td>0.000000</td>\n",
              "    </tr>\n",
              "    <tr>\n",
              "      <th>50%</th>\n",
              "      <td>20.790000</td>\n",
              "      <td>26.200000</td>\n",
              "      <td>7.000000</td>\n",
              "      <td>471.000000</td>\n",
              "      <td>0.003811</td>\n",
              "      <td>0.000000</td>\n",
              "    </tr>\n",
              "    <tr>\n",
              "      <th>75%</th>\n",
              "      <td>21.700000</td>\n",
              "      <td>30.200000</td>\n",
              "      <td>444.000000</td>\n",
              "      <td>854.000000</td>\n",
              "      <td>0.004445</td>\n",
              "      <td>1.000000</td>\n",
              "    </tr>\n",
              "    <tr>\n",
              "      <th>max</th>\n",
              "      <td>23.180000</td>\n",
              "      <td>38.145000</td>\n",
              "      <td>638.000000</td>\n",
              "      <td>1879.250000</td>\n",
              "      <td>0.006257</td>\n",
              "      <td>1.000000</td>\n",
              "    </tr>\n",
              "  </tbody>\n",
              "</table>\n",
              "</div>\n",
              "      <button class=\"colab-df-convert\" onclick=\"convertToInteractive('df-68a6f904-c9e9-4ad5-9350-8aa01e4c75a7')\"\n",
              "              title=\"Convert this dataframe to an interactive table.\"\n",
              "              style=\"display:none;\">\n",
              "        \n",
              "  <svg xmlns=\"http://www.w3.org/2000/svg\" height=\"24px\"viewBox=\"0 0 24 24\"\n",
              "       width=\"24px\">\n",
              "    <path d=\"M0 0h24v24H0V0z\" fill=\"none\"/>\n",
              "    <path d=\"M18.56 5.44l.94 2.06.94-2.06 2.06-.94-2.06-.94-.94-2.06-.94 2.06-2.06.94zm-11 1L8.5 8.5l.94-2.06 2.06-.94-2.06-.94L8.5 2.5l-.94 2.06-2.06.94zm10 10l.94 2.06.94-2.06 2.06-.94-2.06-.94-.94-2.06-.94 2.06-2.06.94z\"/><path d=\"M17.41 7.96l-1.37-1.37c-.4-.4-.92-.59-1.43-.59-.52 0-1.04.2-1.43.59L10.3 9.45l-7.72 7.72c-.78.78-.78 2.05 0 2.83L4 21.41c.39.39.9.59 1.41.59.51 0 1.02-.2 1.41-.59l7.78-7.78 2.81-2.81c.8-.78.8-2.07 0-2.86zM5.41 20L4 18.59l7.72-7.72 1.47 1.35L5.41 20z\"/>\n",
              "  </svg>\n",
              "      </button>\n",
              "      \n",
              "  <style>\n",
              "    .colab-df-container {\n",
              "      display:flex;\n",
              "      flex-wrap:wrap;\n",
              "      gap: 12px;\n",
              "    }\n",
              "\n",
              "    .colab-df-convert {\n",
              "      background-color: #E8F0FE;\n",
              "      border: none;\n",
              "      border-radius: 50%;\n",
              "      cursor: pointer;\n",
              "      display: none;\n",
              "      fill: #1967D2;\n",
              "      height: 32px;\n",
              "      padding: 0 0 0 0;\n",
              "      width: 32px;\n",
              "    }\n",
              "\n",
              "    .colab-df-convert:hover {\n",
              "      background-color: #E2EBFA;\n",
              "      box-shadow: 0px 1px 2px rgba(60, 64, 67, 0.3), 0px 1px 3px 1px rgba(60, 64, 67, 0.15);\n",
              "      fill: #174EA6;\n",
              "    }\n",
              "\n",
              "    [theme=dark] .colab-df-convert {\n",
              "      background-color: #3B4455;\n",
              "      fill: #D2E3FC;\n",
              "    }\n",
              "\n",
              "    [theme=dark] .colab-df-convert:hover {\n",
              "      background-color: #434B5C;\n",
              "      box-shadow: 0px 1px 3px 1px rgba(0, 0, 0, 0.15);\n",
              "      filter: drop-shadow(0px 1px 2px rgba(0, 0, 0, 0.3));\n",
              "      fill: #FFFFFF;\n",
              "    }\n",
              "  </style>\n",
              "\n",
              "      <script>\n",
              "        const buttonEl =\n",
              "          document.querySelector('#df-68a6f904-c9e9-4ad5-9350-8aa01e4c75a7 button.colab-df-convert');\n",
              "        buttonEl.style.display =\n",
              "          google.colab.kernel.accessAllowed ? 'block' : 'none';\n",
              "\n",
              "        async function convertToInteractive(key) {\n",
              "          const element = document.querySelector('#df-68a6f904-c9e9-4ad5-9350-8aa01e4c75a7');\n",
              "          const dataTable =\n",
              "            await google.colab.kernel.invokeFunction('convertToInteractive',\n",
              "                                                     [key], {});\n",
              "          if (!dataTable) return;\n",
              "\n",
              "          const docLinkHtml = 'Like what you see? Visit the ' +\n",
              "            '<a target=\"_blank\" href=https://colab.research.google.com/notebooks/data_table.ipynb>data table notebook</a>'\n",
              "            + ' to learn more about interactive tables.';\n",
              "          element.innerHTML = '';\n",
              "          dataTable['output_type'] = 'display_data';\n",
              "          await google.colab.output.renderOutput(dataTable, element);\n",
              "          const docLink = document.createElement('div');\n",
              "          docLink.innerHTML = docLinkHtml;\n",
              "          element.appendChild(docLink);\n",
              "        }\n",
              "      </script>\n",
              "    </div>\n",
              "  </div>\n",
              "  "
            ]
          },
          "metadata": {},
          "execution_count": 98
        }
      ]
    },
    {
      "cell_type": "code",
      "source": [
        "sns.heatmap(data.corr())"
      ],
      "metadata": {
        "colab": {
          "base_uri": "https://localhost:8080/",
          "height": 347
        },
        "id": "9A7HBAALKd6I",
        "outputId": "592b1d2c-4b2b-486e-c8e6-88f988848a22"
      },
      "execution_count": 99,
      "outputs": [
        {
          "output_type": "execute_result",
          "data": {
            "text/plain": [
              "<matplotlib.axes._subplots.AxesSubplot at 0x7f68d3803590>"
            ]
          },
          "metadata": {},
          "execution_count": 99
        },
        {
          "output_type": "display_data",
          "data": {
            "text/plain": [
              "<Figure size 432x288 with 2 Axes>"
            ],
            "image/png": "[encoded data removed]"
          },
          "metadata": {
            "needs_background": "light"
          }
        }
      ]
    },
    {
      "cell_type": "markdown",
      "source": [
        "'Light', 'CO2' and 'Temperature' fatures have higher correlation with 'Occupancy' when comparing to other features. However, since there are only five features in the dataset, no feature is dropped in this step. Backward elimination will be used to identify the best set of features."
      ],
      "metadata": {
        "id": "_dl9DDNFo173"
      }
    },
    {
      "cell_type": "code",
      "source": [
        "X_variables = ['Temperature', 'Humidity', 'Light', 'CO2','HumidityRatio']\n",
        "y_variable = 'Occupancy'\n",
        "\n",
        "print(F\"X_variables = {X_variables}\")\n",
        "print(F\"y_variable = {y_variable}\")"
      ],
      "metadata": {
        "colab": {
          "base_uri": "https://localhost:8080/"
        },
        "id": "Bb9PSGgLe5Tg",
        "outputId": "c253f971-733d-4a79-dfc9-57e16d1d94ed"
      },
      "execution_count": 100,
      "outputs": [
        {
          "output_type": "stream",
          "name": "stdout",
          "text": [
            "X_variables = ['Temperature', 'Humidity', 'Light', 'CO2', 'HumidityRatio']\n",
            "y_variable = Occupancy\n"
          ]
        }
      ]
    },
    {
      "cell_type": "markdown",
      "source": [
        "## Model building"
      ],
      "metadata": {
        "id": "temOtSk3pr1X"
      }
    },
    {
      "cell_type": "markdown",
      "source": [
        "### Random Forrest Classifier"
      ],
      "metadata": {
        "id": "rEg0ocuFpua3"
      }
    },
    {
      "cell_type": "code",
      "source": [
        "from sklearn.ensemble import RandomForestClassifier\n",
        "\n",
        "X_train = data[X_variables]\n",
        "y_train = data[y_variable].values\n",
        "\n",
        "RFClassifier1 = RandomForestClassifier().fit(X_train, y_train)"
      ],
      "metadata": {
        "id": "NIHxyqPGfNab"
      },
      "execution_count": 101,
      "outputs": []
    },
    {
      "cell_type": "markdown",
      "source": [
        "### Decision tree classifier"
      ],
      "metadata": {
        "id": "K02GIlNwrZvn"
      }
    },
    {
      "cell_type": "code",
      "source": [
        "from sklearn.tree import DecisionTreeClassifier \n",
        "\n",
        "DTClassifier1 = DecisionTreeClassifier().fit(X_train,y_train)"
      ],
      "metadata": {
        "id": "EzesfxpprWzc"
      },
      "execution_count": 102,
      "outputs": []
    },
    {
      "cell_type": "markdown",
      "source": [
        "### K-Nearest Neighbour Classifier"
      ],
      "metadata": {
        "id": "eQPJwLzjr_MJ"
      }
    },
    {
      "cell_type": "code",
      "source": [
        "from sklearn.neighbors import KNeighborsClassifier\n",
        "\n",
        "KNNClassifier1 = KNeighborsClassifier(n_neighbors=2).fit(X_train,y_train)"
      ],
      "metadata": {
        "id": "yVO7j7q3sEUF"
      },
      "execution_count": 103,
      "outputs": []
    },
    {
      "cell_type": "markdown",
      "source": [
        "## Model Evaluation"
      ],
      "metadata": {
        "id": "OGSPi_55sZsJ"
      }
    },
    {
      "cell_type": "code",
      "source": [
        "from sklearn import metrics\n",
        "\n",
        "data_test = pd.read_csv(\"datatest.txt\")\n",
        "print(data_test.shape)"
      ],
      "metadata": {
        "colab": {
          "base_uri": "https://localhost:8080/"
        },
        "id": "aqxPG-eyfdXu",
        "outputId": "1c92d894-6837-4865-9912-ef3bb9edfca7"
      },
      "execution_count": 104,
      "outputs": [
        {
          "output_type": "stream",
          "name": "stdout",
          "text": [
            "(2665, 7)\n"
          ]
        }
      ]
    },
    {
      "cell_type": "code",
      "source": [
        "X_test = data_test[X_variables]\n",
        "y_test = data_test[y_variable].values"
      ],
      "metadata": {
        "id": "sywxy2F2flUS"
      },
      "execution_count": 105,
      "outputs": []
    },
    {
      "cell_type": "code",
      "source": [
        "y_pred_rfc = RFClassifier1.predict(X_test)\n",
        "y_pred_dtc = DTClassifier1.predict(X_test)\n",
        "y_pred_knnc = KNNClassifier1.predict(X_test)"
      ],
      "metadata": {
        "id": "8rfN7Xuzf9pz"
      },
      "execution_count": 106,
      "outputs": []
    },
    {
      "cell_type": "markdown",
      "source": [
        "Random Forrest Classifier"
      ],
      "metadata": {
        "id": "nTIHxrjLuhPL"
      }
    },
    {
      "cell_type": "code",
      "source": [
        "roc_auc = metrics.roc_auc_score(y_test, y_pred_rfc)\n",
        "print(roc_auc)\n",
        "\n",
        "results = metrics.classification_report(y_test, y_pred_rfc)\n",
        "print(results)"
      ],
      "metadata": {
        "colab": {
          "base_uri": "https://localhost:8080/"
        },
        "id": "eCPGSTcfgBoK",
        "outputId": "87fb6899-1333-4c93-e472-d8b612b97e7a"
      },
      "execution_count": 107,
      "outputs": [
        {
          "output_type": "stream",
          "name": "stdout",
          "text": [
            "0.9388607531860798\n",
            "              precision    recall  f1-score   support\n",
            "\n",
            "           0       0.95      0.97      0.96      1693\n",
            "           1       0.94      0.91      0.93       972\n",
            "\n",
            "    accuracy                           0.95      2665\n",
            "   macro avg       0.95      0.94      0.94      2665\n",
            "weighted avg       0.95      0.95      0.95      2665\n",
            "\n"
          ]
        }
      ]
    },
    {
      "cell_type": "markdown",
      "source": [
        "Decision tree classifier"
      ],
      "metadata": {
        "id": "LnZJLN5hun9_"
      }
    },
    {
      "cell_type": "code",
      "source": [
        "roc_auc = metrics.roc_auc_score(y_test, y_pred_dtc)\n",
        "print(roc_auc)\n",
        "\n",
        "results = metrics.classification_report(y_test, y_pred_dtc)\n",
        "print(results)"
      ],
      "metadata": {
        "colab": {
          "base_uri": "https://localhost:8080/"
        },
        "id": "4HoYddQDuoMf",
        "outputId": "51cb555d-4671-4d48-bf7b-c38421d1a42f"
      },
      "execution_count": 108,
      "outputs": [
        {
          "output_type": "stream",
          "name": "stdout",
          "text": [
            "0.8536223350081065\n",
            "              precision    recall  f1-score   support\n",
            "\n",
            "           0       0.86      0.97      0.92      1693\n",
            "           1       0.94      0.74      0.82       972\n",
            "\n",
            "    accuracy                           0.89      2665\n",
            "   macro avg       0.90      0.85      0.87      2665\n",
            "weighted avg       0.89      0.89      0.88      2665\n",
            "\n"
          ]
        }
      ]
    },
    {
      "cell_type": "markdown",
      "source": [
        "Nearest Neighbor Classifier"
      ],
      "metadata": {
        "id": "mTN-mzbNuv07"
      }
    },
    {
      "cell_type": "code",
      "source": [
        "roc_auc = metrics.roc_auc_score(y_test, y_pred_knnc)\n",
        "print(roc_auc)\n",
        "\n",
        "results = metrics.classification_report(y_test, y_pred_knnc)\n",
        "print(results)"
      ],
      "metadata": {
        "colab": {
          "base_uri": "https://localhost:8080/"
        },
        "id": "tO1_Efv7uwDO",
        "outputId": "9cb3352b-8427-4f52-c0c6-eaed9691ed55"
      },
      "execution_count": 109,
      "outputs": [
        {
          "output_type": "stream",
          "name": "stdout",
          "text": [
            "0.9340883181534229\n",
            "              precision    recall  f1-score   support\n",
            "\n",
            "           0       0.94      0.97      0.96      1693\n",
            "           1       0.95      0.90      0.92       972\n",
            "\n",
            "    accuracy                           0.94      2665\n",
            "   macro avg       0.94      0.93      0.94      2665\n",
            "weighted avg       0.94      0.94      0.94      2665\n",
            "\n"
          ]
        }
      ]
    },
    {
      "cell_type": "markdown",
      "source": [
        "## Model Tuning"
      ],
      "metadata": {
        "id": "xgvusRwUu3q6"
      }
    },
    {
      "cell_type": "markdown",
      "source": [
        "Backward elimination - elimination 'Humidity' feature due to lowest correlation with occupancy"
      ],
      "metadata": {
        "id": "agFdzg3Tu70y"
      }
    },
    {
      "cell_type": "code",
      "source": [
        "X_variables = ['Temperature', 'Light', 'CO2', 'HumidityRatio']\n",
        "y_variable = 'Occupancy'\n",
        "\n",
        "print(F\"X_variables = {X_variables}\")\n",
        "print(F\"y_variable = {y_variable}\")\n",
        "\n",
        "X_train = data[X_variables]\n",
        "y_train = data[y_variable].values\n",
        "\n",
        "RFClassifier2 = RandomForestClassifier().fit(X_train, y_train)\n",
        "DTClassifier2 = DecisionTreeClassifier().fit(X_train,y_train)\n",
        "KNNClassifier2 = KNeighborsClassifier(n_neighbors=2).fit(X_train,y_train)"
      ],
      "metadata": {
        "colab": {
          "base_uri": "https://localhost:8080/"
        },
        "id": "kHEHcen6gWyi",
        "outputId": "43e1b631-8f15-4029-9491-0219ed77a9d8"
      },
      "execution_count": 110,
      "outputs": [
        {
          "output_type": "stream",
          "name": "stdout",
          "text": [
            "X_variables = ['Temperature', 'Light', 'CO2', 'HumidityRatio']\n",
            "y_variable = Occupancy\n"
          ]
        }
      ]
    },
    {
      "cell_type": "code",
      "source": [
        "X_test = data_test[X_variables]\n",
        "\n",
        "y_pred_rfc = RFClassifier2.predict(X_test)\n",
        "y_pred_dtc = DTClassifier2.predict(X_test)\n",
        "y_pred_knnc = KNNClassifier2.predict(X_test)"
      ],
      "metadata": {
        "id": "gVmiSvj-hBET"
      },
      "execution_count": 111,
      "outputs": []
    },
    {
      "cell_type": "markdown",
      "source": [
        "Random forrest classifier"
      ],
      "metadata": {
        "id": "-wG_ToLYvxTx"
      }
    },
    {
      "cell_type": "code",
      "source": [
        "roc_auc = metrics.roc_auc_score(y_test, y_pred_rfc)\n",
        "print(roc_auc)\n",
        "\n",
        "results = metrics.classification_report(y_test, y_pred_rfc)\n",
        "print(results)"
      ],
      "metadata": {
        "colab": {
          "base_uri": "https://localhost:8080/"
        },
        "id": "YqYVvthDvjeI",
        "outputId": "2eb3192c-02a5-4999-9163-4e6ddf680fbc"
      },
      "execution_count": 112,
      "outputs": [
        {
          "output_type": "stream",
          "name": "stdout",
          "text": [
            "0.9434141186536671\n",
            "              precision    recall  f1-score   support\n",
            "\n",
            "           0       0.95      0.97      0.96      1693\n",
            "           1       0.94      0.92      0.93       972\n",
            "\n",
            "    accuracy                           0.95      2665\n",
            "   macro avg       0.95      0.94      0.95      2665\n",
            "weighted avg       0.95      0.95      0.95      2665\n",
            "\n"
          ]
        }
      ]
    },
    {
      "cell_type": "markdown",
      "source": [
        "Decision tree classifier"
      ],
      "metadata": {
        "id": "CxJzfzVevyiQ"
      }
    },
    {
      "cell_type": "code",
      "source": [
        "roc_auc = metrics.roc_auc_score(y_test, y_pred_dtc)\n",
        "print(roc_auc)\n",
        "\n",
        "results = metrics.classification_report(y_test, y_pred_dtc)\n",
        "print(results)"
      ],
      "metadata": {
        "colab": {
          "base_uri": "https://localhost:8080/"
        },
        "id": "ZjlMZB4lvysw",
        "outputId": "fb887ff3-5b55-4c47-d839-448e62cb5fac"
      },
      "execution_count": 113,
      "outputs": [
        {
          "output_type": "stream",
          "name": "stdout",
          "text": [
            "0.8987664651591278\n",
            "              precision    recall  f1-score   support\n",
            "\n",
            "           0       0.90      0.98      0.94      1693\n",
            "           1       0.96      0.82      0.88       972\n",
            "\n",
            "    accuracy                           0.92      2665\n",
            "   macro avg       0.93      0.90      0.91      2665\n",
            "weighted avg       0.92      0.92      0.92      2665\n",
            "\n"
          ]
        }
      ]
    },
    {
      "cell_type": "markdown",
      "source": [
        "K-Nearest Neighbour Classifier"
      ],
      "metadata": {
        "id": "WPpO0E5AvzR4"
      }
    },
    {
      "cell_type": "code",
      "source": [
        "roc_auc = metrics.roc_auc_score(y_test, y_pred_knnc)\n",
        "print(roc_auc)\n",
        "\n",
        "results = metrics.classification_report(y_test, y_pred_knnc)\n",
        "print(results)"
      ],
      "metadata": {
        "colab": {
          "base_uri": "https://localhost:8080/"
        },
        "id": "_PVAzo55vz0k",
        "outputId": "7e39c9d0-0fb0-4a33-b040-44e7d01eff51"
      },
      "execution_count": 114,
      "outputs": [
        {
          "output_type": "stream",
          "name": "stdout",
          "text": [
            "0.9345264572835618\n",
            "              precision    recall  f1-score   support\n",
            "\n",
            "           0       0.94      0.97      0.96      1693\n",
            "           1       0.94      0.90      0.92       972\n",
            "\n",
            "    accuracy                           0.94      2665\n",
            "   macro avg       0.94      0.93      0.94      2665\n",
            "weighted avg       0.94      0.94      0.94      2665\n",
            "\n"
          ]
        }
      ]
    },
    {
      "cell_type": "markdown",
      "source": [
        "## Model Saving\n"
      ],
      "metadata": {
        "id": "hkbxwa2NwUI5"
      }
    },
    {
      "cell_type": "code",
      "source": [
        "import pickle\n",
        "\n",
        "out_file = 'model_rfc.pickle'\n",
        "pickle.dump(RFClassifier2, open(out_file, 'wb'))"
      ],
      "metadata": {
        "id": "R7GvYp5hwWD4"
      },
      "execution_count": null,
      "outputs": []
    }
  ]
}